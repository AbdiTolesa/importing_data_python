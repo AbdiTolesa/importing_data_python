{
 "cells": [
  {
   "cell_type": "markdown",
   "id": "a99315df",
   "metadata": {},
   "source": [
    "## Importing Data in Python"
   ]
  },
  {
   "cell_type": "markdown",
   "id": "cb19594b",
   "metadata": {},
   "source": [
    "### CSV files"
   ]
  },
  {
   "cell_type": "code",
   "execution_count": 5,
   "id": "178c7f24",
   "metadata": {
    "scrolled": true
   },
   "outputs": [
    {
     "data": {
      "text/plain": [
       "array([['datetime', 'season', 'holiday', 'workingday', 'weather', 'temp',\n",
       "        'atemp', 'humidity', 'windspeed', 'casual', 'registered',\n",
       "        'count'],\n",
       "       ['1/1/2011 0:00', '1', '0', '0', '1', '9.84', '14.395', '81', '0',\n",
       "        '3', '13', '16'],\n",
       "       ['1/1/2011 1:00', '1', '0', '0', '1', '', '', '', '0', '8', '32',\n",
       "        '40'],\n",
       "       ['1/1/2011 2:00', '1', '0', '0', '1', '9.02', '13.635', '80', '0',\n",
       "        '5', '27', '32'],\n",
       "       ['1/1/2011 3:00', '1', '0', '0', '1', '9.84', '', '75', '0', '3',\n",
       "        '10', '13']], dtype='<U16')"
      ]
     },
     "execution_count": 5,
     "metadata": {},
     "output_type": "execute_result"
    }
   ],
   "source": [
    "import numpy as np\n",
    "\n",
    "data = np.genfromtxt('datasets/bike_sharing.csv', delimiter=',', dtype='str')\n",
    "data[:5]"
   ]
  },
  {
   "cell_type": "code",
   "execution_count": 6,
   "id": "b9fbe148",
   "metadata": {},
   "outputs": [
    {
     "data": {
      "text/plain": [
       "array([[ 1.   ,  0.   ,  0.   ,  1.   ,  9.84 , 14.395, 81.   ,  0.   ,\n",
       "         3.   , 13.   , 16.   ],\n",
       "       [ 1.   ,  0.   ,  0.   ,  1.   ,  0.   ,  0.   ,  0.   ,  0.   ,\n",
       "         8.   , 32.   , 40.   ],\n",
       "       [ 1.   ,  0.   ,  0.   ,  1.   ,  9.02 , 13.635, 80.   ,  0.   ,\n",
       "         5.   , 27.   , 32.   ],\n",
       "       [ 1.   ,  0.   ,  0.   ,  1.   ,  9.84 ,  0.   , 75.   ,  0.   ,\n",
       "         3.   , 10.   , 13.   ],\n",
       "       [ 1.   ,  0.   ,  0.   ,  1.   ,  9.84 , 14.395, 75.   ,  0.   ,\n",
       "         0.   ,  1.   ,  1.   ]])"
      ]
     },
     "execution_count": 6,
     "metadata": {},
     "output_type": "execute_result"
    }
   ],
   "source": [
    "kwargs = dict(delimiter=\",\",\n",
    "                  dtype=float,\n",
    "                  skip_header=1,\n",
    "                  usecols=np.arange(1,12),\n",
    "                  missing_values={np.nan},\n",
    "                  filling_values=0\n",
    "             )\n",
    "\n",
    "data = np.genfromtxt('datasets/bike_sharing.csv', **kwargs)\n",
    "data[:5]"
   ]
  },
  {
   "cell_type": "code",
   "execution_count": 3,
   "id": "2a8a7db0",
   "metadata": {},
   "outputs": [
    {
     "data": {
      "text/plain": [
       "array([[ 1.   ,  0.   ,  0.   ,  1.   ,  9.84 , 14.395, 81.   ,  0.   ,\n",
       "         3.   , 13.   , 16.   ],\n",
       "       [ 1.   ,  0.   ,  0.   ,  1.   ,  0.   ,  0.   ,  0.   ,  0.   ,\n",
       "         8.   , 32.   , 40.   ],\n",
       "       [ 1.   ,  0.   ,  0.   ,  1.   ,  9.02 , 13.635, 80.   ,  0.   ,\n",
       "         5.   , 27.   , 32.   ],\n",
       "       [ 1.   ,  0.   ,  0.   ,  1.   ,  9.84 ,  0.   , 75.   ,  0.   ,\n",
       "         3.   , 10.   , 13.   ],\n",
       "       [ 1.   ,  0.   ,  0.   ,  1.   ,  9.84 , 14.395, 75.   ,  0.   ,\n",
       "         0.   ,  1.   ,  1.   ]])"
      ]
     },
     "execution_count": 3,
     "metadata": {},
     "output_type": "execute_result"
    }
   ],
   "source": [
    "kwargs = dict(delimiter=\",\",\n",
    "                  dtype=float,\n",
    "                  skip_header=1,\n",
    "                  usecols=np.arange(1,12),\n",
    "                  missing_values={np.nan},\n",
    "                  filling_values=0\n",
    "             )\n",
    "\n",
    "data = np.genfromtxt('datasets/bike_sharing.csv', **kwargs)\n",
    "data[:5]"
   ]
  },
  {
   "cell_type": "code",
   "execution_count": 10,
   "id": "657b86cd",
   "metadata": {},
   "outputs": [
    {
     "data": {
      "text/html": [
       "<div>\n",
       "<style scoped>\n",
       "    .dataframe tbody tr th:only-of-type {\n",
       "        vertical-align: middle;\n",
       "    }\n",
       "\n",
       "    .dataframe tbody tr th {\n",
       "        vertical-align: top;\n",
       "    }\n",
       "\n",
       "    .dataframe thead th {\n",
       "        text-align: right;\n",
       "    }\n",
       "</style>\n",
       "<table border=\"1\" class=\"dataframe\">\n",
       "  <thead>\n",
       "    <tr style=\"text-align: right;\">\n",
       "      <th></th>\n",
       "      <th>datetime</th>\n",
       "      <th>season</th>\n",
       "      <th>holiday</th>\n",
       "      <th>workingday</th>\n",
       "      <th>weather</th>\n",
       "      <th>temp</th>\n",
       "      <th>atemp</th>\n",
       "      <th>humidity</th>\n",
       "      <th>windspeed</th>\n",
       "      <th>casual</th>\n",
       "      <th>registered</th>\n",
       "      <th>count</th>\n",
       "    </tr>\n",
       "  </thead>\n",
       "  <tbody>\n",
       "    <tr>\n",
       "      <th>0</th>\n",
       "      <td>2011-01-01 00:00:00</td>\n",
       "      <td>1</td>\n",
       "      <td>0</td>\n",
       "      <td>0</td>\n",
       "      <td>1</td>\n",
       "      <td>9.84</td>\n",
       "      <td>14.395</td>\n",
       "      <td>81.0</td>\n",
       "      <td>0.0</td>\n",
       "      <td>3</td>\n",
       "      <td>13</td>\n",
       "      <td>16</td>\n",
       "    </tr>\n",
       "    <tr>\n",
       "      <th>1</th>\n",
       "      <td>2011-01-01 01:00:00</td>\n",
       "      <td>1</td>\n",
       "      <td>0</td>\n",
       "      <td>0</td>\n",
       "      <td>1</td>\n",
       "      <td>NaN</td>\n",
       "      <td>NaN</td>\n",
       "      <td>NaN</td>\n",
       "      <td>0.0</td>\n",
       "      <td>8</td>\n",
       "      <td>32</td>\n",
       "      <td>40</td>\n",
       "    </tr>\n",
       "    <tr>\n",
       "      <th>2</th>\n",
       "      <td>2011-01-01 02:00:00</td>\n",
       "      <td>1</td>\n",
       "      <td>0</td>\n",
       "      <td>0</td>\n",
       "      <td>1</td>\n",
       "      <td>9.02</td>\n",
       "      <td>13.635</td>\n",
       "      <td>80.0</td>\n",
       "      <td>0.0</td>\n",
       "      <td>5</td>\n",
       "      <td>27</td>\n",
       "      <td>32</td>\n",
       "    </tr>\n",
       "    <tr>\n",
       "      <th>3</th>\n",
       "      <td>2011-01-01 03:00:00</td>\n",
       "      <td>1</td>\n",
       "      <td>0</td>\n",
       "      <td>0</td>\n",
       "      <td>1</td>\n",
       "      <td>9.84</td>\n",
       "      <td>NaN</td>\n",
       "      <td>75.0</td>\n",
       "      <td>0.0</td>\n",
       "      <td>3</td>\n",
       "      <td>10</td>\n",
       "      <td>13</td>\n",
       "    </tr>\n",
       "    <tr>\n",
       "      <th>4</th>\n",
       "      <td>2011-01-01 04:00:00</td>\n",
       "      <td>1</td>\n",
       "      <td>0</td>\n",
       "      <td>0</td>\n",
       "      <td>1</td>\n",
       "      <td>9.84</td>\n",
       "      <td>14.395</td>\n",
       "      <td>75.0</td>\n",
       "      <td>0.0</td>\n",
       "      <td>0</td>\n",
       "      <td>1</td>\n",
       "      <td>1</td>\n",
       "    </tr>\n",
       "  </tbody>\n",
       "</table>\n",
       "</div>"
      ],
      "text/plain": [
       "             datetime  season  holiday  workingday  weather  temp   atemp  \\\n",
       "0 2011-01-01 00:00:00       1        0           0        1  9.84  14.395   \n",
       "1 2011-01-01 01:00:00       1        0           0        1   NaN     NaN   \n",
       "2 2011-01-01 02:00:00       1        0           0        1  9.02  13.635   \n",
       "3 2011-01-01 03:00:00       1        0           0        1  9.84     NaN   \n",
       "4 2011-01-01 04:00:00       1        0           0        1  9.84  14.395   \n",
       "\n",
       "   humidity  windspeed  casual  registered  count  \n",
       "0      81.0        0.0       3          13     16  \n",
       "1       NaN        0.0       8          32     40  \n",
       "2      80.0        0.0       5          27     32  \n",
       "3      75.0        0.0       3          10     13  \n",
       "4      75.0        0.0       0           1      1  "
      ]
     },
     "execution_count": 10,
     "metadata": {},
     "output_type": "execute_result"
    }
   ],
   "source": [
    "import pandas as pd\n",
    "\n",
    "df = pd.read_csv('datasets/bike_sharing.csv', parse_dates=[\"datetime\"])\n",
    "\n",
    "df.head()"
   ]
  },
  {
   "cell_type": "markdown",
   "id": "10ebe422",
   "metadata": {},
   "source": [
    "### Pickle files"
   ]
  },
  {
   "cell_type": "code",
   "execution_count": 17,
   "id": "a211ca37",
   "metadata": {},
   "outputs": [],
   "source": [
    "import pickle\n",
    "\n",
    "# initializing data to be stored in db\n",
    "John = {'key' : '1', 'name' : 'John Simon', 'age' : 21, 'weight(kg)' : 60}\n",
    "Samuel = {'key' : '2', 'name' : 'Samuel Peter', 'age' : 31, 'weight(kg)' : 65}\n",
    "\n",
    "\n",
    "# database\n",
    "db = {}\n",
    "db['John'] = John\n",
    "db['Samuel'] = Samuel\n",
    "\n",
    "# Its important to use binary mode\n",
    "dbfile = open('pickle_example.pkl', 'ab')\n",
    "\n",
    "# source, destination\n",
    "pickle.dump(db, dbfile)                     \n",
    "dbfile.close()"
   ]
  },
  {
   "cell_type": "code",
   "execution_count": 22,
   "id": "2745bc70",
   "metadata": {},
   "outputs": [
    {
     "name": "stdout",
     "output_type": "stream",
     "text": [
      "John => {'key': '1', 'name': 'John Simon', 'age': 21, 'weight(kg)': 60}\n",
      "Samuel => {'key': '2', 'name': 'Samuel Peter', 'age': 31, 'weight(kg)': 65}\n"
     ]
    }
   ],
   "source": [
    "# for reading also binary mode is important\n",
    "pkl_file = open('datasets/pickle_example.pkl', 'rb')     \n",
    "data = pickle.load(pkl_file)\n",
    "for keys in data:\n",
    "    print(keys, '=>', data[keys])\n",
    "pkl_file.close()"
   ]
  },
  {
   "cell_type": "markdown",
   "id": "098ebed2",
   "metadata": {},
   "source": [
    "### Excel Sheets"
   ]
  },
  {
   "cell_type": "code",
   "execution_count": 32,
   "id": "a7465efe",
   "metadata": {},
   "outputs": [
    {
     "name": "stdout",
     "output_type": "stream",
     "text": [
      "   Unnamed: 0         Unnamed: 1        Unnamed: 2         Unnamed: 3  \\\n",
      "0         NaN  Sepal Length (cm)  Sepal Width (cm)  Petal Length (cm)   \n",
      "1         NaN                  7               3.2                4.7   \n",
      "2         NaN                6.4               3.2                4.5   \n",
      "3         NaN                6.9               3.1                4.9   \n",
      "4         NaN                5.5               2.3                  4   \n",
      "\n",
      "         Unnamed: 4       Unnamed: 5  Unnamed: 6  Unnamed: 7 Unnamed: 8  \\\n",
      "0  Petal Width (cm)            Class         NaN         NaN      alpha   \n",
      "1               1.4  Iris-versicolor         NaN         0.0          0   \n",
      "2               1.5  Iris-versicolor         NaN         0.0        NaN   \n",
      "3               1.5  Iris-versicolor         NaN         0.0        NaN   \n",
      "4               1.3  Iris-versicolor         NaN         0.0        NaN   \n",
      "\n",
      "  Unnamed: 9  Unnamed: 10  Unnamed: 11  \n",
      "0        obj          NaN          NaN  \n",
      "1          0          0.0          1.0  \n",
      "2        NaN          0.0          1.0  \n",
      "3        NaN          0.0          1.0  \n",
      "4        NaN          0.0          1.0  \n"
     ]
    }
   ],
   "source": [
    "data = pd.ExcelFile('datasets/iris.xlsx')\n",
    "#print(data.sheet_names)\n",
    "df1 = data.parse(0)\n",
    "print(df1.head())"
   ]
  },
  {
   "cell_type": "code",
   "execution_count": null,
   "id": "11b9cc02",
   "metadata": {
    "scrolled": true
   },
   "outputs": [],
   "source": []
  },
  {
   "cell_type": "code",
   "execution_count": 43,
   "id": "0fd181da",
   "metadata": {},
   "outputs": [
    {
     "data": {
      "text/html": [
       "<div>\n",
       "<style scoped>\n",
       "    .dataframe tbody tr th:only-of-type {\n",
       "        vertical-align: middle;\n",
       "    }\n",
       "\n",
       "    .dataframe tbody tr th {\n",
       "        vertical-align: top;\n",
       "    }\n",
       "\n",
       "    .dataframe thead th {\n",
       "        text-align: right;\n",
       "    }\n",
       "</style>\n",
       "<table border=\"1\" class=\"dataframe\">\n",
       "  <thead>\n",
       "    <tr style=\"text-align: right;\">\n",
       "      <th></th>\n",
       "      <th>YEAR</th>\n",
       "      <th>Y</th>\n",
       "      <th>W</th>\n",
       "      <th>R</th>\n",
       "      <th>L</th>\n",
       "      <th>K</th>\n",
       "    </tr>\n",
       "  </thead>\n",
       "  <tbody>\n",
       "    <tr>\n",
       "      <th>0</th>\n",
       "      <td>1948.0</td>\n",
       "      <td>1.214</td>\n",
       "      <td>0.243</td>\n",
       "      <td>0.1454</td>\n",
       "      <td>1.415</td>\n",
       "      <td>0.612</td>\n",
       "    </tr>\n",
       "    <tr>\n",
       "      <th>1</th>\n",
       "      <td>1949.0</td>\n",
       "      <td>1.354</td>\n",
       "      <td>0.260</td>\n",
       "      <td>0.2181</td>\n",
       "      <td>1.384</td>\n",
       "      <td>0.559</td>\n",
       "    </tr>\n",
       "    <tr>\n",
       "      <th>2</th>\n",
       "      <td>1950.0</td>\n",
       "      <td>1.569</td>\n",
       "      <td>0.278</td>\n",
       "      <td>0.3157</td>\n",
       "      <td>1.388</td>\n",
       "      <td>0.573</td>\n",
       "    </tr>\n",
       "    <tr>\n",
       "      <th>3</th>\n",
       "      <td>1951.0</td>\n",
       "      <td>1.948</td>\n",
       "      <td>0.297</td>\n",
       "      <td>0.3940</td>\n",
       "      <td>1.550</td>\n",
       "      <td>0.564</td>\n",
       "    </tr>\n",
       "    <tr>\n",
       "      <th>4</th>\n",
       "      <td>1952.0</td>\n",
       "      <td>2.265</td>\n",
       "      <td>0.310</td>\n",
       "      <td>0.3559</td>\n",
       "      <td>1.802</td>\n",
       "      <td>0.574</td>\n",
       "    </tr>\n",
       "  </tbody>\n",
       "</table>\n",
       "</div>"
      ],
      "text/plain": [
       "     YEAR      Y      W       R      L      K\n",
       "0  1948.0  1.214  0.243  0.1454  1.415  0.612\n",
       "1  1949.0  1.354  0.260  0.2181  1.384  0.559\n",
       "2  1950.0  1.569  0.278  0.3157  1.388  0.573\n",
       "3  1951.0  1.948  0.297  0.3940  1.550  0.564\n",
       "4  1952.0  2.265  0.310  0.3559  1.802  0.574"
      ]
     },
     "execution_count": 43,
     "metadata": {},
     "output_type": "execute_result"
    }
   ],
   "source": [
    "import pandas as pd\n",
    "from sas7bdat import SAS7BDAT\n",
    "with SAS7BDAT('datasets/airline.sas7bdat') as file:\n",
    "    df_sas = file.to_data_frame()\n",
    "df_sas.head()"
   ]
  },
  {
   "cell_type": "markdown",
   "id": "13b1b5f8",
   "metadata": {},
   "source": [
    "### Stata files"
   ]
  },
  {
   "cell_type": "code",
   "execution_count": 44,
   "id": "d89131a3",
   "metadata": {},
   "outputs": [
    {
     "data": {
      "text/html": [
       "<div>\n",
       "<style scoped>\n",
       "    .dataframe tbody tr th:only-of-type {\n",
       "        vertical-align: middle;\n",
       "    }\n",
       "\n",
       "    .dataframe tbody tr th {\n",
       "        vertical-align: top;\n",
       "    }\n",
       "\n",
       "    .dataframe thead th {\n",
       "        text-align: right;\n",
       "    }\n",
       "</style>\n",
       "<table border=\"1\" class=\"dataframe\">\n",
       "  <thead>\n",
       "    <tr style=\"text-align: right;\">\n",
       "      <th></th>\n",
       "      <th>adults</th>\n",
       "      <th>kids</th>\n",
       "      <th>income</th>\n",
       "      <th>consume</th>\n",
       "    </tr>\n",
       "  </thead>\n",
       "  <tbody>\n",
       "    <tr>\n",
       "      <th>0</th>\n",
       "      <td>2</td>\n",
       "      <td>2</td>\n",
       "      <td>758</td>\n",
       "      <td>1</td>\n",
       "    </tr>\n",
       "    <tr>\n",
       "      <th>1</th>\n",
       "      <td>2</td>\n",
       "      <td>3</td>\n",
       "      <td>1785</td>\n",
       "      <td>1</td>\n",
       "    </tr>\n",
       "    <tr>\n",
       "      <th>2</th>\n",
       "      <td>3</td>\n",
       "      <td>0</td>\n",
       "      <td>1200</td>\n",
       "      <td>1</td>\n",
       "    </tr>\n",
       "    <tr>\n",
       "      <th>3</th>\n",
       "      <td>1</td>\n",
       "      <td>0</td>\n",
       "      <td>545</td>\n",
       "      <td>1</td>\n",
       "    </tr>\n",
       "    <tr>\n",
       "      <th>4</th>\n",
       "      <td>4</td>\n",
       "      <td>1</td>\n",
       "      <td>547</td>\n",
       "      <td>1</td>\n",
       "    </tr>\n",
       "  </tbody>\n",
       "</table>\n",
       "</div>"
      ],
      "text/plain": [
       "   adults  kids  income  consume\n",
       "0       2     2     758        1\n",
       "1       2     3    1785        1\n",
       "2       3     0    1200        1\n",
       "3       1     0     545        1\n",
       "4       4     1     547        1"
      ]
     },
     "execution_count": 44,
     "metadata": {},
     "output_type": "execute_result"
    }
   ],
   "source": [
    "data = pd.read_stata('datasets/alcohol.dta')\n",
    "data.head()"
   ]
  },
  {
   "cell_type": "markdown",
   "id": "b966b608",
   "metadata": {},
   "source": [
    "### hdf5 files"
   ]
  },
  {
   "cell_type": "code",
   "execution_count": 48,
   "id": "6b3ed590",
   "metadata": {},
   "outputs": [
    {
     "name": "stdout",
     "output_type": "stream",
     "text": [
      "<class 'h5py._hl.files.File'>\n"
     ]
    }
   ],
   "source": [
    "import h5py\n",
    "filename = 'datasets/NEONDSTowerTemperatureData.hdf5'\n",
    "data = h5py.File(filename, 'r') # 'r' is to read\n",
    "print(type(data))"
   ]
  },
  {
   "cell_type": "markdown",
   "id": "3e9e3ca2",
   "metadata": {},
   "source": [
    "### SQLITE"
   ]
  },
  {
   "cell_type": "code",
   "execution_count": 56,
   "id": "8e176a52",
   "metadata": {},
   "outputs": [
    {
     "data": {
      "text/html": [
       "<div>\n",
       "<style scoped>\n",
       "    .dataframe tbody tr th:only-of-type {\n",
       "        vertical-align: middle;\n",
       "    }\n",
       "\n",
       "    .dataframe tbody tr th {\n",
       "        vertical-align: top;\n",
       "    }\n",
       "\n",
       "    .dataframe thead th {\n",
       "        text-align: right;\n",
       "    }\n",
       "</style>\n",
       "<table border=\"1\" class=\"dataframe\">\n",
       "  <thead>\n",
       "    <tr style=\"text-align: right;\">\n",
       "      <th></th>\n",
       "      <th>0</th>\n",
       "      <th>1</th>\n",
       "      <th>2</th>\n",
       "    </tr>\n",
       "  </thead>\n",
       "  <tbody>\n",
       "    <tr>\n",
       "      <th>0</th>\n",
       "      <td>Austin</td>\n",
       "      <td>M</td>\n",
       "      <td>33</td>\n",
       "    </tr>\n",
       "    <tr>\n",
       "      <th>1</th>\n",
       "      <td>Blair</td>\n",
       "      <td>M</td>\n",
       "      <td>90</td>\n",
       "    </tr>\n",
       "    <tr>\n",
       "      <th>2</th>\n",
       "      <td>Carolina</td>\n",
       "      <td>F</td>\n",
       "      <td>28</td>\n",
       "    </tr>\n",
       "    <tr>\n",
       "      <th>3</th>\n",
       "      <td>Dani</td>\n",
       "      <td>F</td>\n",
       "      <td>41</td>\n",
       "    </tr>\n",
       "    <tr>\n",
       "      <th>4</th>\n",
       "      <td>Donald</td>\n",
       "      <td>M</td>\n",
       "      <td>70</td>\n",
       "    </tr>\n",
       "  </tbody>\n",
       "</table>\n",
       "</div>"
      ],
      "text/plain": [
       "          0  1   2\n",
       "0    Austin  M  33\n",
       "1     Blair  M  90\n",
       "2  Carolina  F  28\n",
       "3      Dani  F  41\n",
       "4    Donald  M  70"
      ]
     },
     "execution_count": 56,
     "metadata": {},
     "output_type": "execute_result"
    }
   ],
   "source": [
    "from sqlalchemy import create_engine\n",
    "import pandas as pd\n",
    "engine = create_engine('sqlite:///datasets/simplefolks.sqlite')\n",
    "con = engine.connect()\n",
    "rs = con.execute(\"SELECT * FROM people\")\n",
    "df = pd.DataFrame(rs.fetchall())\n",
    "con.close()\n",
    "\n",
    "df.head()"
   ]
  },
  {
   "cell_type": "markdown",
   "id": "7b68fe8d",
   "metadata": {},
   "source": [
    "### Web Scraping"
   ]
  },
  {
   "cell_type": "code",
   "execution_count": 64,
   "id": "d3441409",
   "metadata": {},
   "outputs": [
    {
     "name": "stdout",
     "output_type": "stream",
     "text": [
      "#Download\n",
      "bs4/doc/\n",
      "#HallOfFame\n",
      "enterprise.html\n",
      "https://code.launchpad.net/beautifulsoup\n",
      "https://bazaar.launchpad.net/%7Eleonardr/beautifulsoup/bs4/view/head:/CHANGELOG\n",
      "https://groups.google.com/forum/?fromgroups#!forum/beautifulsoup\n",
      "zine/\n",
      "bs4/download/\n",
      "http://lxml.de/\n",
      "http://code.google.com/p/html5lib/\n",
      "bs4/doc/\n",
      "https://tidelift.com/subscription/pkg/pypi-beautifulsoup4?utm_source=pypi-beautifulsoup4&utm_medium=referral&utm_campaign=enterprise\n",
      "https://groups.google.com/forum/?fromgroups#!forum/beautifulsoup\n",
      "https://bugs.launchpad.net/beautifulsoup/\n",
      "https://tidelift.com/security\n",
      "https://tidelift.com/subscription/pkg/pypi-beautifulsoup4?utm_source=pypi-beautifulsoup4&utm_medium=referral&utm_campaign=website\n",
      "zine/\n",
      "None\n",
      "bs4/download/\n",
      "http://www.crummy.com/software/BeautifulSoup/bs3/documentation.html\n",
      "download/3.x/BeautifulSoup-3.2.2.tar.gz\n",
      "https://tidelift.com/subscription/pkg/pypi-beautifulsoup?utm_source=pypi-beautifulsoup&utm_medium=referral&utm_campaign=website\n",
      "None\n",
      "http://www.nytimes.com/2007/10/25/arts/design/25vide.html\n",
      "https://github.com/BlankerL/DXY-COVID-19-Crawler\n",
      "https://blog.tidelift.com/how-open-source-software-is-fighting-covid-19\n",
      "https://github.com/reddit/reddit/blob/85f9cff3e2ab9bb8f19b96acd8da4ebacc079f04/r2/r2/lib/media.py\n",
      "http://www.harrowell.org.uk/viktormap.html\n",
      "http://svn.python.org/view/tracker/importer/\n",
      "http://www2.ljworld.com/\n",
      "http://www.b-list.org/weblog/2010/nov/02/news-done-broke/\n",
      "http://esrl.noaa.gov/gsd/fab/\n",
      "http://laps.noaa.gov/topograbber/\n",
      "http://groups.google.com/group/beautifulsoup/\n",
      "https://launchpad.net/beautifulsoup\n",
      "https://code.launchpad.net/beautifulsoup/\n",
      "https://bugs.launchpad.net/beautifulsoup/\n",
      "/source/software/BeautifulSoup/index.bhtml\n",
      "/self/\n",
      "/self/contact.html\n",
      "http://creativecommons.org/licenses/by-sa/2.0/\n",
      "http://creativecommons.org/licenses/by-sa/2.0/\n",
      "http://www.crummy.com/\n",
      "http://www.crummy.com/software/\n",
      "http://www.crummy.com/software/BeautifulSoup/\n"
     ]
    }
   ],
   "source": [
    "from bs4 import BeautifulSoup\n",
    "import requests\n",
    "url = 'https://www.crummy.com/software/BeautifulSoup/'\n",
    "r = requests.get(url)\n",
    "html_doc = r.text\n",
    "soup = BeautifulSoup(html_doc)\n",
    "\n",
    "for link in soup.find_all('a'):\n",
    "    print(link.get('href'))"
   ]
  },
  {
   "cell_type": "code",
   "execution_count": null,
   "id": "eee0b42f",
   "metadata": {},
   "outputs": [],
   "source": []
  },
  {
   "cell_type": "code",
   "execution_count": null,
   "id": "e19b07d6",
   "metadata": {},
   "outputs": [],
   "source": []
  }
 ],
 "metadata": {
  "kernelspec": {
   "display_name": "Python 3 (ipykernel)",
   "language": "python",
   "name": "python3"
  },
  "language_info": {
   "codemirror_mode": {
    "name": "ipython",
    "version": 3
   },
   "file_extension": ".py",
   "mimetype": "text/x-python",
   "name": "python",
   "nbconvert_exporter": "python",
   "pygments_lexer": "ipython3",
   "version": "3.9.5"
  }
 },
 "nbformat": 4,
 "nbformat_minor": 5
}
