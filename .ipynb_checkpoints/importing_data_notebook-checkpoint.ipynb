{
 "cells": [
  {
   "cell_type": "markdown",
   "id": "a99315df",
   "metadata": {},
   "source": [
    "## Importing Data in Python"
   ]
  },
  {
   "cell_type": "code",
   "execution_count": 13,
   "id": "178c7f24",
   "metadata": {},
   "outputs": [
    {
     "data": {
      "text/plain": [
       "array([['datetime', 'season', 'holiday', 'workingday', 'weather', 'temp',\n",
       "        'atemp', 'humidity', 'windspeed', 'casual', 'registered',\n",
       "        'count'],\n",
       "       ['1/1/2011 0:00', '1', '0', '0', '1', '9.84', '14.395', '81', '0',\n",
       "        '3', '13', '16'],\n",
       "       ['1/1/2011 1:00', '1', '0', '0', '1', '', '', '', '0', '8', '32',\n",
       "        '40'],\n",
       "       ['1/1/2011 2:00', '1', '0', '0', '1', '9.02', '13.635', '80', '0',\n",
       "        '5', '27', '32'],\n",
       "       ['1/1/2011 3:00', '1', '0', '0', '1', '9.84', '', '75', '0', '3',\n",
       "        '10', '13']], dtype='<U16')"
      ]
     },
     "execution_count": 13,
     "metadata": {},
     "output_type": "execute_result"
    }
   ],
   "source": [
    "import numpy as np\n",
    "\n",
    "data = np.loadtxt('datasets/bike_sharing.csv', delimiter=',', dtype='str')\n",
    "data[:5]"
   ]
  },
  {
   "cell_type": "code",
   "execution_count": 21,
   "id": "b9fbe148",
   "metadata": {},
   "outputs": [
    {
     "data": {
      "text/plain": [
       "array([[ 1.   ,  0.   ,  0.   ,  1.   ,  9.84 , 14.395, 81.   ,  0.   ,\n",
       "         3.   , 13.   , 16.   ],\n",
       "       [ 1.   ,  0.   ,  0.   ,  1.   ,    nan,    nan,    nan,  0.   ,\n",
       "         8.   , 32.   , 40.   ],\n",
       "       [ 1.   ,  0.   ,  0.   ,  1.   ,  9.02 , 13.635, 80.   ,  0.   ,\n",
       "         5.   , 27.   , 32.   ],\n",
       "       [ 1.   ,  0.   ,  0.   ,  1.   ,  9.84 ,    nan, 75.   ,  0.   ,\n",
       "         3.   , 10.   , 13.   ],\n",
       "       [ 1.   ,  0.   ,  0.   ,  1.   ,  9.84 , 14.395, 75.   ,  0.   ,\n",
       "         0.   ,  1.   ,  1.   ]])"
      ]
     },
     "execution_count": 21,
     "metadata": {},
     "output_type": "execute_result"
    }
   ],
   "source": [
    "kwargs = dict(delimiter=\",\",\n",
    "                  dtype=float,\n",
    "                  skip_header=1,\n",
    "                  usecols=np.arange(1,12),\n",
    "                  missing_values={np.nan},\n",
    "             )\n",
    "\n",
    "data = np.genfromtxt('datasets/bike_sharing.csv', **kwargs)\n",
    "data[:5]"
   ]
  },
  {
   "cell_type": "code",
   "execution_count": 23,
   "id": "2a8a7db0",
   "metadata": {},
   "outputs": [
    {
     "data": {
      "text/plain": [
       "array([[ 1.   ,  0.   ,  0.   ,  1.   ,  9.84 , 14.395, 81.   ,  0.   ,\n",
       "         3.   , 13.   , 16.   ],\n",
       "       [ 1.   ,  0.   ,  0.   ,  1.   ,  0.   ,  0.   ,  0.   ,  0.   ,\n",
       "         8.   , 32.   , 40.   ],\n",
       "       [ 1.   ,  0.   ,  0.   ,  1.   ,  9.02 , 13.635, 80.   ,  0.   ,\n",
       "         5.   , 27.   , 32.   ],\n",
       "       [ 1.   ,  0.   ,  0.   ,  1.   ,  9.84 ,  0.   , 75.   ,  0.   ,\n",
       "         3.   , 10.   , 13.   ],\n",
       "       [ 1.   ,  0.   ,  0.   ,  1.   ,  9.84 , 14.395, 75.   ,  0.   ,\n",
       "         0.   ,  1.   ,  1.   ]])"
      ]
     },
     "execution_count": 23,
     "metadata": {},
     "output_type": "execute_result"
    }
   ],
   "source": [
    "kwargs = dict(delimiter=\",\",\n",
    "                  dtype=float,\n",
    "                  skip_header=1,\n",
    "                  usecols=np.arange(1,12),\n",
    "                  missing_values={np.nan},\n",
    "                  filling_values=0\n",
    "             )\n",
    "\n",
    "data = np.genfromtxt('datasets/bike_sharing.csv', **kwargs)\n",
    "data[:5]"
   ]
  },
  {
   "cell_type": "code",
   "execution_count": null,
   "id": "657b86cd",
   "metadata": {},
   "outputs": [],
   "source": []
  }
 ],
 "metadata": {
  "kernelspec": {
   "display_name": "Python 3 (ipykernel)",
   "language": "python",
   "name": "python3"
  },
  "language_info": {
   "codemirror_mode": {
    "name": "ipython",
    "version": 3
   },
   "file_extension": ".py",
   "mimetype": "text/x-python",
   "name": "python",
   "nbconvert_exporter": "python",
   "pygments_lexer": "ipython3",
   "version": "3.9.5"
  }
 },
 "nbformat": 4,
 "nbformat_minor": 5
}
